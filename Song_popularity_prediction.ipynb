{
  "cells": [
    {
      "cell_type": "code",
      "execution_count": 1,
      "metadata": {
        "id": "Ml0nTzzk9afz"
      },
      "outputs": [],
      "source": [
        "import numpy as np\n",
        "import pandas as pd\n",
        "import seaborn as sns\n",
        "import spacy\n",
        "%matplotlib inline\n",
        "import matplotlib\n",
        "import matplotlib.pyplot as plt\n",
        "sns.set_style('darkgrid')\n",
        "from sklearn import preprocessing\n",
        "from sklearn.preprocessing import OneHotEncoder\n",
        "import warnings\n",
        "warnings.filterwarnings(\"ignore\")"
      ]
    },
    {
      "cell_type": "code",
      "execution_count": 2,
      "metadata": {
        "colab": {
          "base_uri": "https://localhost:8080/"
        },
        "id": "qjtMO09LU0J2",
        "outputId": "fdb5cfc3-3e6d-4128-e773-1cca8ca08fd8"
      },
      "outputs": [
        {
          "output_type": "stream",
          "name": "stdout",
          "text": [
            "Downloading song-popularity-prediction.zip to /content\n",
            "\r  0% 0.00/4.18M [00:00<?, ?B/s]\n",
            "\r100% 4.18M/4.18M [00:00<00:00, 53.5MB/s]\n",
            "Archive:  song-popularity-prediction.zip\n",
            "  inflating: sample_submission.csv   \n",
            "  inflating: test.csv                \n",
            "  inflating: train.csv               \n"
          ]
        }
      ],
      "source": [
        "! mkdir ~/.kaggle\n",
        "! cp kaggle.json ~/.kaggle/\n",
        "! chmod 600 ~/.kaggle/kaggle.json\n",
        "! kaggle competitions download -c song-popularity-prediction\n",
        "! unzip  song-popularity-prediction\n"
      ]
    },
    {
      "cell_type": "code",
      "execution_count": 3,
      "metadata": {
        "colab": {
          "base_uri": "https://localhost:8080/",
          "height": 364
        },
        "id": "xaN5bU8F-CZv",
        "outputId": "fa457a22-37c1-421c-89b6-e8847a7c1d84"
      },
      "outputs": [
        {
          "output_type": "execute_result",
          "data": {
            "text/plain": [
              "                id  song_duration_ms  acousticness  danceability  \\\n",
              "count  40000.00000      35899.000000  36008.000000  35974.000000   \n",
              "mean   19999.50000     193165.847572      0.276404      0.570951   \n",
              "std    11547.14972      45822.127679      0.297928      0.190010   \n",
              "min        0.00000      25658.000000     -0.013551      0.043961   \n",
              "25%     9999.75000     166254.500000      0.039618      0.424760   \n",
              "50%    19999.50000     186660.000000      0.140532      0.608234   \n",
              "75%    29999.25000     215116.000000      0.482499      0.718464   \n",
              "max    39999.00000     491671.000000      1.065284      0.957131   \n",
              "\n",
              "             energy  instrumentalness           key      liveness  \\\n",
              "count  36025.000000      36015.000000  35935.000000  35914.000000   \n",
              "mean       0.683932          0.036527      5.042605      0.198514   \n",
              "std        0.212662          0.150024      3.372728      0.151670   \n",
              "min       -0.001682         -0.004398      0.000000      0.027843   \n",
              "25%        0.539276          0.000941      2.000000      0.111796   \n",
              "50%        0.704453          0.001974      5.000000      0.135945   \n",
              "75%        0.870503          0.003225      8.000000      0.212842   \n",
              "max        1.039741          1.075415     11.000000      1.065298   \n",
              "\n",
              "           loudness    audio_mode   speechiness         tempo  time_signature  \\\n",
              "count  36043.000000  40000.000000  40000.000000  40000.000000    40000.000000   \n",
              "mean      -7.407596      0.321150      0.094107    116.562815        3.394375   \n",
              "std        3.877198      0.466924      0.083591     26.167911        0.524405   \n",
              "min      -32.117911      0.000000      0.015065     62.055779        2.000000   \n",
              "25%       -9.578139      0.000000      0.038500     96.995309        3.000000   \n",
              "50%       -6.345413      0.000000      0.055881    113.795959        3.000000   \n",
              "75%       -4.620711      1.000000      0.118842    128.517383        4.000000   \n",
              "max       -0.877346      1.000000      0.560748    219.163578        5.000000   \n",
              "\n",
              "       audio_valence  song_popularity  \n",
              "count   40000.000000     40000.000000  \n",
              "mean        0.580645         0.364400  \n",
              "std         0.237351         0.481268  \n",
              "min         0.013398         0.000000  \n",
              "25%         0.398669         0.000000  \n",
              "50%         0.598827         0.000000  \n",
              "75%         0.759635         1.000000  \n",
              "max         1.022558         1.000000  "
            ],
            "text/html": [
              "\n",
              "  <div id=\"df-ce050914-69e6-48d3-8ba9-68d817edef22\">\n",
              "    <div class=\"colab-df-container\">\n",
              "      <div>\n",
              "<style scoped>\n",
              "    .dataframe tbody tr th:only-of-type {\n",
              "        vertical-align: middle;\n",
              "    }\n",
              "\n",
              "    .dataframe tbody tr th {\n",
              "        vertical-align: top;\n",
              "    }\n",
              "\n",
              "    .dataframe thead th {\n",
              "        text-align: right;\n",
              "    }\n",
              "</style>\n",
              "<table border=\"1\" class=\"dataframe\">\n",
              "  <thead>\n",
              "    <tr style=\"text-align: right;\">\n",
              "      <th></th>\n",
              "      <th>id</th>\n",
              "      <th>song_duration_ms</th>\n",
              "      <th>acousticness</th>\n",
              "      <th>danceability</th>\n",
              "      <th>energy</th>\n",
              "      <th>instrumentalness</th>\n",
              "      <th>key</th>\n",
              "      <th>liveness</th>\n",
              "      <th>loudness</th>\n",
              "      <th>audio_mode</th>\n",
              "      <th>speechiness</th>\n",
              "      <th>tempo</th>\n",
              "      <th>time_signature</th>\n",
              "      <th>audio_valence</th>\n",
              "      <th>song_popularity</th>\n",
              "    </tr>\n",
              "  </thead>\n",
              "  <tbody>\n",
              "    <tr>\n",
              "      <th>count</th>\n",
              "      <td>40000.00000</td>\n",
              "      <td>35899.000000</td>\n",
              "      <td>36008.000000</td>\n",
              "      <td>35974.000000</td>\n",
              "      <td>36025.000000</td>\n",
              "      <td>36015.000000</td>\n",
              "      <td>35935.000000</td>\n",
              "      <td>35914.000000</td>\n",
              "      <td>36043.000000</td>\n",
              "      <td>40000.000000</td>\n",
              "      <td>40000.000000</td>\n",
              "      <td>40000.000000</td>\n",
              "      <td>40000.000000</td>\n",
              "      <td>40000.000000</td>\n",
              "      <td>40000.000000</td>\n",
              "    </tr>\n",
              "    <tr>\n",
              "      <th>mean</th>\n",
              "      <td>19999.50000</td>\n",
              "      <td>193165.847572</td>\n",
              "      <td>0.276404</td>\n",
              "      <td>0.570951</td>\n",
              "      <td>0.683932</td>\n",
              "      <td>0.036527</td>\n",
              "      <td>5.042605</td>\n",
              "      <td>0.198514</td>\n",
              "      <td>-7.407596</td>\n",
              "      <td>0.321150</td>\n",
              "      <td>0.094107</td>\n",
              "      <td>116.562815</td>\n",
              "      <td>3.394375</td>\n",
              "      <td>0.580645</td>\n",
              "      <td>0.364400</td>\n",
              "    </tr>\n",
              "    <tr>\n",
              "      <th>std</th>\n",
              "      <td>11547.14972</td>\n",
              "      <td>45822.127679</td>\n",
              "      <td>0.297928</td>\n",
              "      <td>0.190010</td>\n",
              "      <td>0.212662</td>\n",
              "      <td>0.150024</td>\n",
              "      <td>3.372728</td>\n",
              "      <td>0.151670</td>\n",
              "      <td>3.877198</td>\n",
              "      <td>0.466924</td>\n",
              "      <td>0.083591</td>\n",
              "      <td>26.167911</td>\n",
              "      <td>0.524405</td>\n",
              "      <td>0.237351</td>\n",
              "      <td>0.481268</td>\n",
              "    </tr>\n",
              "    <tr>\n",
              "      <th>min</th>\n",
              "      <td>0.00000</td>\n",
              "      <td>25658.000000</td>\n",
              "      <td>-0.013551</td>\n",
              "      <td>0.043961</td>\n",
              "      <td>-0.001682</td>\n",
              "      <td>-0.004398</td>\n",
              "      <td>0.000000</td>\n",
              "      <td>0.027843</td>\n",
              "      <td>-32.117911</td>\n",
              "      <td>0.000000</td>\n",
              "      <td>0.015065</td>\n",
              "      <td>62.055779</td>\n",
              "      <td>2.000000</td>\n",
              "      <td>0.013398</td>\n",
              "      <td>0.000000</td>\n",
              "    </tr>\n",
              "    <tr>\n",
              "      <th>25%</th>\n",
              "      <td>9999.75000</td>\n",
              "      <td>166254.500000</td>\n",
              "      <td>0.039618</td>\n",
              "      <td>0.424760</td>\n",
              "      <td>0.539276</td>\n",
              "      <td>0.000941</td>\n",
              "      <td>2.000000</td>\n",
              "      <td>0.111796</td>\n",
              "      <td>-9.578139</td>\n",
              "      <td>0.000000</td>\n",
              "      <td>0.038500</td>\n",
              "      <td>96.995309</td>\n",
              "      <td>3.000000</td>\n",
              "      <td>0.398669</td>\n",
              "      <td>0.000000</td>\n",
              "    </tr>\n",
              "    <tr>\n",
              "      <th>50%</th>\n",
              "      <td>19999.50000</td>\n",
              "      <td>186660.000000</td>\n",
              "      <td>0.140532</td>\n",
              "      <td>0.608234</td>\n",
              "      <td>0.704453</td>\n",
              "      <td>0.001974</td>\n",
              "      <td>5.000000</td>\n",
              "      <td>0.135945</td>\n",
              "      <td>-6.345413</td>\n",
              "      <td>0.000000</td>\n",
              "      <td>0.055881</td>\n",
              "      <td>113.795959</td>\n",
              "      <td>3.000000</td>\n",
              "      <td>0.598827</td>\n",
              "      <td>0.000000</td>\n",
              "    </tr>\n",
              "    <tr>\n",
              "      <th>75%</th>\n",
              "      <td>29999.25000</td>\n",
              "      <td>215116.000000</td>\n",
              "      <td>0.482499</td>\n",
              "      <td>0.718464</td>\n",
              "      <td>0.870503</td>\n",
              "      <td>0.003225</td>\n",
              "      <td>8.000000</td>\n",
              "      <td>0.212842</td>\n",
              "      <td>-4.620711</td>\n",
              "      <td>1.000000</td>\n",
              "      <td>0.118842</td>\n",
              "      <td>128.517383</td>\n",
              "      <td>4.000000</td>\n",
              "      <td>0.759635</td>\n",
              "      <td>1.000000</td>\n",
              "    </tr>\n",
              "    <tr>\n",
              "      <th>max</th>\n",
              "      <td>39999.00000</td>\n",
              "      <td>491671.000000</td>\n",
              "      <td>1.065284</td>\n",
              "      <td>0.957131</td>\n",
              "      <td>1.039741</td>\n",
              "      <td>1.075415</td>\n",
              "      <td>11.000000</td>\n",
              "      <td>1.065298</td>\n",
              "      <td>-0.877346</td>\n",
              "      <td>1.000000</td>\n",
              "      <td>0.560748</td>\n",
              "      <td>219.163578</td>\n",
              "      <td>5.000000</td>\n",
              "      <td>1.022558</td>\n",
              "      <td>1.000000</td>\n",
              "    </tr>\n",
              "  </tbody>\n",
              "</table>\n",
              "</div>\n",
              "      <button class=\"colab-df-convert\" onclick=\"convertToInteractive('df-ce050914-69e6-48d3-8ba9-68d817edef22')\"\n",
              "              title=\"Convert this dataframe to an interactive table.\"\n",
              "              style=\"display:none;\">\n",
              "        \n",
              "  <svg xmlns=\"http://www.w3.org/2000/svg\" height=\"24px\"viewBox=\"0 0 24 24\"\n",
              "       width=\"24px\">\n",
              "    <path d=\"M0 0h24v24H0V0z\" fill=\"none\"/>\n",
              "    <path d=\"M18.56 5.44l.94 2.06.94-2.06 2.06-.94-2.06-.94-.94-2.06-.94 2.06-2.06.94zm-11 1L8.5 8.5l.94-2.06 2.06-.94-2.06-.94L8.5 2.5l-.94 2.06-2.06.94zm10 10l.94 2.06.94-2.06 2.06-.94-2.06-.94-.94-2.06-.94 2.06-2.06.94z\"/><path d=\"M17.41 7.96l-1.37-1.37c-.4-.4-.92-.59-1.43-.59-.52 0-1.04.2-1.43.59L10.3 9.45l-7.72 7.72c-.78.78-.78 2.05 0 2.83L4 21.41c.39.39.9.59 1.41.59.51 0 1.02-.2 1.41-.59l7.78-7.78 2.81-2.81c.8-.78.8-2.07 0-2.86zM5.41 20L4 18.59l7.72-7.72 1.47 1.35L5.41 20z\"/>\n",
              "  </svg>\n",
              "      </button>\n",
              "      \n",
              "  <style>\n",
              "    .colab-df-container {\n",
              "      display:flex;\n",
              "      flex-wrap:wrap;\n",
              "      gap: 12px;\n",
              "    }\n",
              "\n",
              "    .colab-df-convert {\n",
              "      background-color: #E8F0FE;\n",
              "      border: none;\n",
              "      border-radius: 50%;\n",
              "      cursor: pointer;\n",
              "      display: none;\n",
              "      fill: #1967D2;\n",
              "      height: 32px;\n",
              "      padding: 0 0 0 0;\n",
              "      width: 32px;\n",
              "    }\n",
              "\n",
              "    .colab-df-convert:hover {\n",
              "      background-color: #E2EBFA;\n",
              "      box-shadow: 0px 1px 2px rgba(60, 64, 67, 0.3), 0px 1px 3px 1px rgba(60, 64, 67, 0.15);\n",
              "      fill: #174EA6;\n",
              "    }\n",
              "\n",
              "    [theme=dark] .colab-df-convert {\n",
              "      background-color: #3B4455;\n",
              "      fill: #D2E3FC;\n",
              "    }\n",
              "\n",
              "    [theme=dark] .colab-df-convert:hover {\n",
              "      background-color: #434B5C;\n",
              "      box-shadow: 0px 1px 3px 1px rgba(0, 0, 0, 0.15);\n",
              "      filter: drop-shadow(0px 1px 2px rgba(0, 0, 0, 0.3));\n",
              "      fill: #FFFFFF;\n",
              "    }\n",
              "  </style>\n",
              "\n",
              "      <script>\n",
              "        const buttonEl =\n",
              "          document.querySelector('#df-ce050914-69e6-48d3-8ba9-68d817edef22 button.colab-df-convert');\n",
              "        buttonEl.style.display =\n",
              "          google.colab.kernel.accessAllowed ? 'block' : 'none';\n",
              "\n",
              "        async function convertToInteractive(key) {\n",
              "          const element = document.querySelector('#df-ce050914-69e6-48d3-8ba9-68d817edef22');\n",
              "          const dataTable =\n",
              "            await google.colab.kernel.invokeFunction('convertToInteractive',\n",
              "                                                     [key], {});\n",
              "          if (!dataTable) return;\n",
              "\n",
              "          const docLinkHtml = 'Like what you see? Visit the ' +\n",
              "            '<a target=\"_blank\" href=https://colab.research.google.com/notebooks/data_table.ipynb>data table notebook</a>'\n",
              "            + ' to learn more about interactive tables.';\n",
              "          element.innerHTML = '';\n",
              "          dataTable['output_type'] = 'display_data';\n",
              "          await google.colab.output.renderOutput(dataTable, element);\n",
              "          const docLink = document.createElement('div');\n",
              "          docLink.innerHTML = docLinkHtml;\n",
              "          element.appendChild(docLink);\n",
              "        }\n",
              "      </script>\n",
              "    </div>\n",
              "  </div>\n",
              "  "
            ]
          },
          "metadata": {},
          "execution_count": 3
        }
      ],
      "source": [
        "data=pd.read_csv(\"/content/train.csv\")\n",
        "data.describe()"
      ]
    },
    {
      "cell_type": "markdown",
      "metadata": {
        "id": "Ob1-s8SolfJK"
      },
      "source": [
        "## Imputing missing values"
      ]
    },
    {
      "cell_type": "code",
      "execution_count": 4,
      "metadata": {
        "colab": {
          "base_uri": "https://localhost:8080/",
          "height": 488
        },
        "id": "F3_nKYWR-tBU",
        "outputId": "40b478b9-e0bb-4e6f-e393-9cc3f709f3ad"
      },
      "outputs": [
        {
          "output_type": "execute_result",
          "data": {
            "text/plain": [
              "            id  song_duration_ms  acousticness  danceability    energy  \\\n",
              "0          0.0     212990.000000      0.642286      0.856520  0.707073   \n",
              "1          1.0     193165.847572      0.054866      0.733289  0.835545   \n",
              "2          2.0     193213.000000      0.276404      0.188387  0.783524   \n",
              "3          3.0     249893.000000      0.488660      0.585234  0.552685   \n",
              "4          4.0     165969.000000      0.493017      0.570951  0.740982   \n",
              "...        ...               ...           ...           ...       ...   \n",
              "39995  39995.0     237799.000000      0.276404      0.748942  0.511234   \n",
              "39996  39996.0     191119.000000      0.067488      0.672830  0.889685   \n",
              "39997  39997.0     160879.000000      0.877431      0.409065  0.292671   \n",
              "39998  39998.0     193918.000000      0.276404      0.365738  0.683932   \n",
              "39999  39999.0     196475.000000      0.007116      0.354585  0.994883   \n",
              "\n",
              "       instrumentalness   key  liveness   loudness  audio_mode  speechiness  \\\n",
              "0              0.002001  10.0  0.198514  -5.619088         0.0     0.082570   \n",
              "1              0.000996   8.0  0.436428  -5.236965         1.0     0.127358   \n",
              "2             -0.002694   5.0  0.170499  -4.951759         0.0     0.052282   \n",
              "3              0.000608   0.0  0.094805  -7.893694         0.0     0.035618   \n",
              "4              0.002033  10.0  0.094891  -2.684095         0.0     0.050746   \n",
              "...                 ...   ...       ...        ...         ...          ...   \n",
              "39995          0.002913   0.0  0.173803  -8.853673         0.0     0.078060   \n",
              "39996          0.001225   5.0  0.122924  -7.798993         0.0     0.188607   \n",
              "39997          0.036527  10.0  0.110664 -15.378585         0.0     0.031294   \n",
              "39998          0.000339   1.0  0.356308  -4.661977         1.0     0.054096   \n",
              "39999          0.002191   1.0  0.200900  -4.875249         0.0     0.080549   \n",
              "\n",
              "            tempo  time_signature  audio_valence  song_popularity  \n",
              "0      158.386236             4.0       0.734642              0.0  \n",
              "1      102.752988             3.0       0.711531              1.0  \n",
              "2      178.685791             3.0       0.425536              0.0  \n",
              "3      128.715630             3.0       0.453597              0.0  \n",
              "4      121.928157             4.0       0.741311              0.0  \n",
              "...           ...             ...            ...              ...  \n",
              "39995  168.262924             3.0       0.178159              0.0  \n",
              "39996  110.684544             3.0       0.790626              0.0  \n",
              "39997   99.556074             3.0       0.177947              1.0  \n",
              "39998  139.857384             3.0       0.772978              0.0  \n",
              "39999  101.974949             3.0       0.588549              0.0  \n",
              "\n",
              "[40000 rows x 15 columns]"
            ],
            "text/html": [
              "\n",
              "  <div id=\"df-032f5df8-dd1e-4dfb-855e-e5dea6412cf8\">\n",
              "    <div class=\"colab-df-container\">\n",
              "      <div>\n",
              "<style scoped>\n",
              "    .dataframe tbody tr th:only-of-type {\n",
              "        vertical-align: middle;\n",
              "    }\n",
              "\n",
              "    .dataframe tbody tr th {\n",
              "        vertical-align: top;\n",
              "    }\n",
              "\n",
              "    .dataframe thead th {\n",
              "        text-align: right;\n",
              "    }\n",
              "</style>\n",
              "<table border=\"1\" class=\"dataframe\">\n",
              "  <thead>\n",
              "    <tr style=\"text-align: right;\">\n",
              "      <th></th>\n",
              "      <th>id</th>\n",
              "      <th>song_duration_ms</th>\n",
              "      <th>acousticness</th>\n",
              "      <th>danceability</th>\n",
              "      <th>energy</th>\n",
              "      <th>instrumentalness</th>\n",
              "      <th>key</th>\n",
              "      <th>liveness</th>\n",
              "      <th>loudness</th>\n",
              "      <th>audio_mode</th>\n",
              "      <th>speechiness</th>\n",
              "      <th>tempo</th>\n",
              "      <th>time_signature</th>\n",
              "      <th>audio_valence</th>\n",
              "      <th>song_popularity</th>\n",
              "    </tr>\n",
              "  </thead>\n",
              "  <tbody>\n",
              "    <tr>\n",
              "      <th>0</th>\n",
              "      <td>0.0</td>\n",
              "      <td>212990.000000</td>\n",
              "      <td>0.642286</td>\n",
              "      <td>0.856520</td>\n",
              "      <td>0.707073</td>\n",
              "      <td>0.002001</td>\n",
              "      <td>10.0</td>\n",
              "      <td>0.198514</td>\n",
              "      <td>-5.619088</td>\n",
              "      <td>0.0</td>\n",
              "      <td>0.082570</td>\n",
              "      <td>158.386236</td>\n",
              "      <td>4.0</td>\n",
              "      <td>0.734642</td>\n",
              "      <td>0.0</td>\n",
              "    </tr>\n",
              "    <tr>\n",
              "      <th>1</th>\n",
              "      <td>1.0</td>\n",
              "      <td>193165.847572</td>\n",
              "      <td>0.054866</td>\n",
              "      <td>0.733289</td>\n",
              "      <td>0.835545</td>\n",
              "      <td>0.000996</td>\n",
              "      <td>8.0</td>\n",
              "      <td>0.436428</td>\n",
              "      <td>-5.236965</td>\n",
              "      <td>1.0</td>\n",
              "      <td>0.127358</td>\n",
              "      <td>102.752988</td>\n",
              "      <td>3.0</td>\n",
              "      <td>0.711531</td>\n",
              "      <td>1.0</td>\n",
              "    </tr>\n",
              "    <tr>\n",
              "      <th>2</th>\n",
              "      <td>2.0</td>\n",
              "      <td>193213.000000</td>\n",
              "      <td>0.276404</td>\n",
              "      <td>0.188387</td>\n",
              "      <td>0.783524</td>\n",
              "      <td>-0.002694</td>\n",
              "      <td>5.0</td>\n",
              "      <td>0.170499</td>\n",
              "      <td>-4.951759</td>\n",
              "      <td>0.0</td>\n",
              "      <td>0.052282</td>\n",
              "      <td>178.685791</td>\n",
              "      <td>3.0</td>\n",
              "      <td>0.425536</td>\n",
              "      <td>0.0</td>\n",
              "    </tr>\n",
              "    <tr>\n",
              "      <th>3</th>\n",
              "      <td>3.0</td>\n",
              "      <td>249893.000000</td>\n",
              "      <td>0.488660</td>\n",
              "      <td>0.585234</td>\n",
              "      <td>0.552685</td>\n",
              "      <td>0.000608</td>\n",
              "      <td>0.0</td>\n",
              "      <td>0.094805</td>\n",
              "      <td>-7.893694</td>\n",
              "      <td>0.0</td>\n",
              "      <td>0.035618</td>\n",
              "      <td>128.715630</td>\n",
              "      <td>3.0</td>\n",
              "      <td>0.453597</td>\n",
              "      <td>0.0</td>\n",
              "    </tr>\n",
              "    <tr>\n",
              "      <th>4</th>\n",
              "      <td>4.0</td>\n",
              "      <td>165969.000000</td>\n",
              "      <td>0.493017</td>\n",
              "      <td>0.570951</td>\n",
              "      <td>0.740982</td>\n",
              "      <td>0.002033</td>\n",
              "      <td>10.0</td>\n",
              "      <td>0.094891</td>\n",
              "      <td>-2.684095</td>\n",
              "      <td>0.0</td>\n",
              "      <td>0.050746</td>\n",
              "      <td>121.928157</td>\n",
              "      <td>4.0</td>\n",
              "      <td>0.741311</td>\n",
              "      <td>0.0</td>\n",
              "    </tr>\n",
              "    <tr>\n",
              "      <th>...</th>\n",
              "      <td>...</td>\n",
              "      <td>...</td>\n",
              "      <td>...</td>\n",
              "      <td>...</td>\n",
              "      <td>...</td>\n",
              "      <td>...</td>\n",
              "      <td>...</td>\n",
              "      <td>...</td>\n",
              "      <td>...</td>\n",
              "      <td>...</td>\n",
              "      <td>...</td>\n",
              "      <td>...</td>\n",
              "      <td>...</td>\n",
              "      <td>...</td>\n",
              "      <td>...</td>\n",
              "    </tr>\n",
              "    <tr>\n",
              "      <th>39995</th>\n",
              "      <td>39995.0</td>\n",
              "      <td>237799.000000</td>\n",
              "      <td>0.276404</td>\n",
              "      <td>0.748942</td>\n",
              "      <td>0.511234</td>\n",
              "      <td>0.002913</td>\n",
              "      <td>0.0</td>\n",
              "      <td>0.173803</td>\n",
              "      <td>-8.853673</td>\n",
              "      <td>0.0</td>\n",
              "      <td>0.078060</td>\n",
              "      <td>168.262924</td>\n",
              "      <td>3.0</td>\n",
              "      <td>0.178159</td>\n",
              "      <td>0.0</td>\n",
              "    </tr>\n",
              "    <tr>\n",
              "      <th>39996</th>\n",
              "      <td>39996.0</td>\n",
              "      <td>191119.000000</td>\n",
              "      <td>0.067488</td>\n",
              "      <td>0.672830</td>\n",
              "      <td>0.889685</td>\n",
              "      <td>0.001225</td>\n",
              "      <td>5.0</td>\n",
              "      <td>0.122924</td>\n",
              "      <td>-7.798993</td>\n",
              "      <td>0.0</td>\n",
              "      <td>0.188607</td>\n",
              "      <td>110.684544</td>\n",
              "      <td>3.0</td>\n",
              "      <td>0.790626</td>\n",
              "      <td>0.0</td>\n",
              "    </tr>\n",
              "    <tr>\n",
              "      <th>39997</th>\n",
              "      <td>39997.0</td>\n",
              "      <td>160879.000000</td>\n",
              "      <td>0.877431</td>\n",
              "      <td>0.409065</td>\n",
              "      <td>0.292671</td>\n",
              "      <td>0.036527</td>\n",
              "      <td>10.0</td>\n",
              "      <td>0.110664</td>\n",
              "      <td>-15.378585</td>\n",
              "      <td>0.0</td>\n",
              "      <td>0.031294</td>\n",
              "      <td>99.556074</td>\n",
              "      <td>3.0</td>\n",
              "      <td>0.177947</td>\n",
              "      <td>1.0</td>\n",
              "    </tr>\n",
              "    <tr>\n",
              "      <th>39998</th>\n",
              "      <td>39998.0</td>\n",
              "      <td>193918.000000</td>\n",
              "      <td>0.276404</td>\n",
              "      <td>0.365738</td>\n",
              "      <td>0.683932</td>\n",
              "      <td>0.000339</td>\n",
              "      <td>1.0</td>\n",
              "      <td>0.356308</td>\n",
              "      <td>-4.661977</td>\n",
              "      <td>1.0</td>\n",
              "      <td>0.054096</td>\n",
              "      <td>139.857384</td>\n",
              "      <td>3.0</td>\n",
              "      <td>0.772978</td>\n",
              "      <td>0.0</td>\n",
              "    </tr>\n",
              "    <tr>\n",
              "      <th>39999</th>\n",
              "      <td>39999.0</td>\n",
              "      <td>196475.000000</td>\n",
              "      <td>0.007116</td>\n",
              "      <td>0.354585</td>\n",
              "      <td>0.994883</td>\n",
              "      <td>0.002191</td>\n",
              "      <td>1.0</td>\n",
              "      <td>0.200900</td>\n",
              "      <td>-4.875249</td>\n",
              "      <td>0.0</td>\n",
              "      <td>0.080549</td>\n",
              "      <td>101.974949</td>\n",
              "      <td>3.0</td>\n",
              "      <td>0.588549</td>\n",
              "      <td>0.0</td>\n",
              "    </tr>\n",
              "  </tbody>\n",
              "</table>\n",
              "<p>40000 rows × 15 columns</p>\n",
              "</div>\n",
              "      <button class=\"colab-df-convert\" onclick=\"convertToInteractive('df-032f5df8-dd1e-4dfb-855e-e5dea6412cf8')\"\n",
              "              title=\"Convert this dataframe to an interactive table.\"\n",
              "              style=\"display:none;\">\n",
              "        \n",
              "  <svg xmlns=\"http://www.w3.org/2000/svg\" height=\"24px\"viewBox=\"0 0 24 24\"\n",
              "       width=\"24px\">\n",
              "    <path d=\"M0 0h24v24H0V0z\" fill=\"none\"/>\n",
              "    <path d=\"M18.56 5.44l.94 2.06.94-2.06 2.06-.94-2.06-.94-.94-2.06-.94 2.06-2.06.94zm-11 1L8.5 8.5l.94-2.06 2.06-.94-2.06-.94L8.5 2.5l-.94 2.06-2.06.94zm10 10l.94 2.06.94-2.06 2.06-.94-2.06-.94-.94-2.06-.94 2.06-2.06.94z\"/><path d=\"M17.41 7.96l-1.37-1.37c-.4-.4-.92-.59-1.43-.59-.52 0-1.04.2-1.43.59L10.3 9.45l-7.72 7.72c-.78.78-.78 2.05 0 2.83L4 21.41c.39.39.9.59 1.41.59.51 0 1.02-.2 1.41-.59l7.78-7.78 2.81-2.81c.8-.78.8-2.07 0-2.86zM5.41 20L4 18.59l7.72-7.72 1.47 1.35L5.41 20z\"/>\n",
              "  </svg>\n",
              "      </button>\n",
              "      \n",
              "  <style>\n",
              "    .colab-df-container {\n",
              "      display:flex;\n",
              "      flex-wrap:wrap;\n",
              "      gap: 12px;\n",
              "    }\n",
              "\n",
              "    .colab-df-convert {\n",
              "      background-color: #E8F0FE;\n",
              "      border: none;\n",
              "      border-radius: 50%;\n",
              "      cursor: pointer;\n",
              "      display: none;\n",
              "      fill: #1967D2;\n",
              "      height: 32px;\n",
              "      padding: 0 0 0 0;\n",
              "      width: 32px;\n",
              "    }\n",
              "\n",
              "    .colab-df-convert:hover {\n",
              "      background-color: #E2EBFA;\n",
              "      box-shadow: 0px 1px 2px rgba(60, 64, 67, 0.3), 0px 1px 3px 1px rgba(60, 64, 67, 0.15);\n",
              "      fill: #174EA6;\n",
              "    }\n",
              "\n",
              "    [theme=dark] .colab-df-convert {\n",
              "      background-color: #3B4455;\n",
              "      fill: #D2E3FC;\n",
              "    }\n",
              "\n",
              "    [theme=dark] .colab-df-convert:hover {\n",
              "      background-color: #434B5C;\n",
              "      box-shadow: 0px 1px 3px 1px rgba(0, 0, 0, 0.15);\n",
              "      filter: drop-shadow(0px 1px 2px rgba(0, 0, 0, 0.3));\n",
              "      fill: #FFFFFF;\n",
              "    }\n",
              "  </style>\n",
              "\n",
              "      <script>\n",
              "        const buttonEl =\n",
              "          document.querySelector('#df-032f5df8-dd1e-4dfb-855e-e5dea6412cf8 button.colab-df-convert');\n",
              "        buttonEl.style.display =\n",
              "          google.colab.kernel.accessAllowed ? 'block' : 'none';\n",
              "\n",
              "        async function convertToInteractive(key) {\n",
              "          const element = document.querySelector('#df-032f5df8-dd1e-4dfb-855e-e5dea6412cf8');\n",
              "          const dataTable =\n",
              "            await google.colab.kernel.invokeFunction('convertToInteractive',\n",
              "                                                     [key], {});\n",
              "          if (!dataTable) return;\n",
              "\n",
              "          const docLinkHtml = 'Like what you see? Visit the ' +\n",
              "            '<a target=\"_blank\" href=https://colab.research.google.com/notebooks/data_table.ipynb>data table notebook</a>'\n",
              "            + ' to learn more about interactive tables.';\n",
              "          element.innerHTML = '';\n",
              "          dataTable['output_type'] = 'display_data';\n",
              "          await google.colab.output.renderOutput(dataTable, element);\n",
              "          const docLink = document.createElement('div');\n",
              "          docLink.innerHTML = docLinkHtml;\n",
              "          element.appendChild(docLink);\n",
              "        }\n",
              "      </script>\n",
              "    </div>\n",
              "  </div>\n",
              "  "
            ]
          },
          "metadata": {},
          "execution_count": 4
        }
      ],
      "source": [
        "from sklearn.impute import SimpleImputer\n",
        "imputer = SimpleImputer(missing_values=np.nan, strategy='mean')\n",
        "imputer = imputer.fit(data)\n",
        "data = imputer.transform(data)\n",
        "\n",
        "columns=['id', 'song_duration_ms', 'acousticness', 'danceability', 'energy',\n",
        "       'instrumentalness', 'key', 'liveness', 'loudness', 'audio_mode',\n",
        "       'speechiness', 'tempo', 'time_signature', 'audio_valence','song_popularity']\n",
        "data=pd.DataFrame(data,columns=columns)\n",
        "data"
      ]
    },
    {
      "cell_type": "code",
      "execution_count": 5,
      "metadata": {
        "colab": {
          "base_uri": "https://localhost:8080/",
          "height": 432
        },
        "id": "Pn1iAwsymQ5V",
        "outputId": "e2484e07-7de3-4ccb-ff56-f62227474547"
      },
      "outputs": [
        {
          "output_type": "display_data",
          "data": {
            "text/plain": [
              "<Figure size 1440x720 with 15 Axes>"
            ],
            "image/png": "[encoded data removed]"
          },
          "metadata": {}
        }
      ],
      "source": [
        "fig, axs = plt.subplots(ncols=5, nrows=3, figsize=(20, 10))\n",
        "columns=data.columns\n",
        "for col, ax in zip(columns, axs.flat):\n",
        "    sns.histplot(data=data,hue='song_popularity',\n",
        "                 x=col,\n",
        "                 ax=ax)"
      ]
    },
    {
      "cell_type": "markdown",
      "metadata": {
        "id": "Ixr-xPbyv3mH"
      },
      "source": [
        "## Data transformation"
      ]
    },
    {
      "cell_type": "code",
      "execution_count": 6,
      "metadata": {
        "colab": {
          "base_uri": "https://localhost:8080/",
          "height": 192
        },
        "id": "kJuSHFuDU6gM",
        "outputId": "4fe82c64-4862-4f27-f107-178a48c17001"
      },
      "outputs": [
        {
          "output_type": "execute_result",
          "data": {
            "text/plain": [
              "\"def trans(X):\\n  from sklearn.impute import SimpleImputer\\n  imputer = SimpleImputer(missing_values=np.nan, strategy='mean')\\n  imputer = imputer.fit(X)\\n  X = imputer.transform(X)\\n\\n  columns=['id', 'song_duration_ms', 'acousticness', 'danceability', 'energy',\\n        'instrumentalness', 'key', 'liveness', 'loudness', 'audio_mode',\\n        'speechiness', 'tempo', 'time_signature', 'audio_valence','song_popularity']\\n  X=pd.DataFrame(X,columns=columns)\\n  \\n  df['acousticness']=(1+X['acousticness'])**0.5\\n  df['liveness']=X['liveness']**0.3\\n  a='speechiness'\\n  df[a]=np.log(1+X[a])**0.3\\n  X['loudness']=10**(X['loudness']/10)\\n\\n  encoder = OneHotEncoder(handle_unknown='ignore')\\n  encoder_X = pd.DataFrame(encoder.fit_transform(X[['key','time_signature']]).toarray())\\n  X=X.join(encoder_X)\\n  X.drop(['key','time_signature'],axis=1,inplace=True)\\n\\n  x =X.values #returns a numpy array\\n  min_max_scaler = preprocessing.MinMaxScaler()\\n  x_scaled = min_max_scaler.fit_transform(x)\\n  X_scaled = pd.DataFrame(x_scaled)\\n  return X_scaled\""
            ],
            "application/vnd.google.colaboratory.intrinsic+json": {
              "type": "string"
            }
          },
          "metadata": {},
          "execution_count": 6
        }
      ],
      "source": [
        "#normalisation included\n",
        "'''def trans(X):\n",
        "  from sklearn.impute import SimpleImputer\n",
        "  imputer = SimpleImputer(missing_values=np.nan, strategy='mean')\n",
        "  imputer = imputer.fit(X)\n",
        "  X = imputer.transform(X)\n",
        "\n",
        "  columns=['id', 'song_duration_ms', 'acousticness', 'danceability', 'energy',\n",
        "        'instrumentalness', 'key', 'liveness', 'loudness', 'audio_mode',\n",
        "        'speechiness', 'tempo', 'time_signature', 'audio_valence','song_popularity']\n",
        "  X=pd.DataFrame(X,columns=columns)\n",
        "  \n",
        "  df['acousticness']=(1+X['acousticness'])**0.5\n",
        "  df['liveness']=X['liveness']**0.3\n",
        "  a='speechiness'\n",
        "  df[a]=np.log(1+X[a])**0.3\n",
        "  X['loudness']=10**(X['loudness']/10)\n",
        "\n",
        "  encoder = OneHotEncoder(handle_unknown='ignore')\n",
        "  encoder_X = pd.DataFrame(encoder.fit_transform(X[['key','time_signature']]).toarray())\n",
        "  X=X.join(encoder_X)\n",
        "  X.drop(['key','time_signature'],axis=1,inplace=True)\n",
        "\n",
        "  x =X.values #returns a numpy array\n",
        "  min_max_scaler = preprocessing.MinMaxScaler()\n",
        "  x_scaled = min_max_scaler.fit_transform(x)\n",
        "  X_scaled = pd.DataFrame(x_scaled)\n",
        "  return X_scaled'''"
      ]
    },
    {
      "cell_type": "code",
      "execution_count": 7,
      "metadata": {
        "id": "f1iSEB1Rv6YM"
      },
      "outputs": [],
      "source": [
        "def trans(X):\n",
        "  from sklearn.impute import SimpleImputer\n",
        "  imputer = SimpleImputer(missing_values=np.nan, strategy='mean')\n",
        "  imputer = imputer.fit(X)\n",
        "  X = imputer.transform(X)\n",
        "\n",
        "  columns=['id', 'song_duration_ms', 'acousticness', 'danceability', 'energy',\n",
        "        'instrumentalness', 'key', 'liveness', 'loudness', 'audio_mode',\n",
        "        'speechiness', 'tempo', 'time_signature', 'audio_valence']\n",
        "  X=pd.DataFrame(X,columns=columns)\n",
        "  \n",
        "  \n",
        "\n",
        "  encoder = OneHotEncoder(handle_unknown='ignore')\n",
        "  encoder_X = pd.DataFrame(encoder.fit_transform(X[['key','time_signature']]).toarray())\n",
        "  X=X.join(encoder_X)\n",
        "  X.drop(['key','time_signature'],axis=1,inplace=True)\n",
        "\n",
        "  x =X.values #returns a numpy array\n",
        "  min_max_scaler = preprocessing.MinMaxScaler()\n",
        "  x_scaled = min_max_scaler.fit_transform(x)\n",
        "  X_scaled = pd.DataFrame(x_scaled)\n",
        "  return X_scaled"
      ]
    },
    {
      "cell_type": "code",
      "execution_count": 8,
      "metadata": {
        "id": "H1Xl-kDpPnn2"
      },
      "outputs": [],
      "source": [
        "y=data.pop('song_popularity')\n",
        "data=trans(data)"
      ]
    },
    {
      "cell_type": "markdown",
      "metadata": {
        "id": "GBxsCvuYlkxm"
      },
      "source": [
        "##Splitting dataset for training and testing"
      ]
    },
    {
      "cell_type": "code",
      "execution_count": 9,
      "metadata": {
        "id": "_83BT-l7-xN_"
      },
      "outputs": [],
      "source": [
        "X=data.copy()\n",
        "\n",
        "\n",
        "from sklearn.model_selection import train_test_split\n",
        "\n",
        "train_X, val_X, train_y, val_y = train_test_split(X, y, random_state = 0)\n"
      ]
    },
    {
      "cell_type": "markdown",
      "metadata": {
        "id": "uG_3pmVIl9Ui"
      },
      "source": [
        "## Ada boost classifier"
      ]
    },
    {
      "cell_type": "code",
      "execution_count": 10,
      "metadata": {
        "colab": {
          "base_uri": "https://localhost:8080/"
        },
        "id": "27qyw1Hal5Ag",
        "outputId": "d6ca23be-5d61-4147-98cb-ed1564bbd63d"
      },
      "outputs": [
        {
          "output_type": "stream",
          "name": "stdout",
          "text": [
            "0.3667\n"
          ]
        }
      ],
      "source": [
        "#adaboost\n",
        "from sklearn.metrics import mean_absolute_error\n",
        "from sklearn.ensemble import AdaBoostClassifier\n",
        "adb_model = AdaBoostClassifier()\n",
        "columns=X.columns\n",
        "#adb_model = adb.fit(train_X,train_y)\n",
        "#adb_model.score(val_X,val_y)#=0.6342\n",
        "\n",
        "cx=train_X\n",
        "cy=train_y\n",
        "adb_model.fit(cx,cy)\n",
        "preds = adb_model.predict(val_X)\n",
        "print(mean_absolute_error(val_y, preds))"
      ]
    },
    {
      "cell_type": "code",
      "execution_count": 11,
      "metadata": {
        "id": "XSnBOlyRQ4y3"
      },
      "outputs": [],
      "source": [
        "mae1=mean_absolute_error(val_y, preds)"
      ]
    },
    {
      "cell_type": "markdown",
      "metadata": {
        "id": "PMalMZKfmGm2"
      },
      "source": [
        "##  Random forest classifier"
      ]
    },
    {
      "cell_type": "code",
      "execution_count": 12,
      "metadata": {
        "id": "3o_kUHtNiNn6"
      },
      "outputs": [],
      "source": [
        "from sklearn.pipeline import make_pipeline\n",
        "from sklearn.ensemble import RandomForestClassifier\n",
        "from sklearn.preprocessing import StandardScaler"
      ]
    },
    {
      "cell_type": "code",
      "execution_count": 13,
      "metadata": {
        "id": "fvBjZ86Orjak"
      },
      "outputs": [],
      "source": [
        "pipeline=make_pipeline(StandardScaler(),RandomForestClassifier(max_depth=12,max_features=3))"
      ]
    },
    {
      "cell_type": "code",
      "execution_count": 14,
      "metadata": {
        "colab": {
          "base_uri": "https://localhost:8080/"
        },
        "id": "lK4NP0iGr4lx",
        "outputId": "ecc0d8b2-d767-4d00-e703-698a0cc33264"
      },
      "outputs": [
        {
          "output_type": "execute_result",
          "data": {
            "text/plain": [
              "Pipeline(steps=[('standardscaler', StandardScaler()),\n",
              "                ('randomforestclassifier',\n",
              "                 RandomForestClassifier(max_depth=12, max_features=3))])"
            ]
          },
          "metadata": {},
          "execution_count": 14
        }
      ],
      "source": [
        "pipeline.fit(train_X,train_y)"
      ]
    },
    {
      "cell_type": "code",
      "execution_count": 15,
      "metadata": {
        "id": "DpqCCCdJr7y2"
      },
      "outputs": [],
      "source": [
        "result=pipeline.predict(val_X)"
      ]
    },
    {
      "cell_type": "code",
      "execution_count": 16,
      "metadata": {
        "colab": {
          "base_uri": "https://localhost:8080/"
        },
        "id": "jp45XrB7sEU7",
        "outputId": "8188376f-5c22-437d-f4c2-8153e9bcca07"
      },
      "outputs": [
        {
          "output_type": "execute_result",
          "data": {
            "text/plain": [
              "0.3625"
            ]
          },
          "metadata": {},
          "execution_count": 16
        }
      ],
      "source": [
        "mean_absolute_error(result,val_y)"
      ]
    },
    {
      "cell_type": "code",
      "execution_count": 17,
      "metadata": {
        "id": "Q7D25PJcRAyS"
      },
      "outputs": [],
      "source": [
        "mae2=mean_absolute_error(result,val_y)"
      ]
    },
    {
      "cell_type": "markdown",
      "metadata": {
        "id": "qdGmHfo41fTc"
      },
      "source": [
        "##Gridsearch cv "
      ]
    },
    {
      "cell_type": "code",
      "execution_count": 18,
      "metadata": {
        "colab": {
          "base_uri": "https://localhost:8080/"
        },
        "id": "-J-ichxi1in5",
        "outputId": "d8cf5c5a-659d-4d9b-eebf-d09c1e9564d8"
      },
      "outputs": [
        {
          "output_type": "stream",
          "name": "stdout",
          "text": [
            "{'max_depth': 12, 'max_features': 5}\n",
            "0.6362333333333333\n"
          ]
        }
      ],
      "source": [
        "import pandas as pd\n",
        "\n",
        "from sklearn.ensemble import RandomForestClassifier\n",
        "\n",
        "from sklearn.model_selection import train_test_split\n",
        "\n",
        "from sklearn.model_selection import GridSearchCV\n",
        "\n",
        "from sklearn import metrics\n",
        "\n",
        "\n",
        "\n",
        "rfc = RandomForestClassifier()\n",
        "\n",
        "forest_params = [{'max_depth': list(range(10, 15)), 'max_features': list(range(0,10))}]\n",
        "\n",
        "clf = GridSearchCV(rfc, forest_params, cv = 5, scoring='accuracy')\n",
        "\n",
        "clf.fit(train_X, train_y)\n",
        "\n",
        "print(clf.best_params_)\n",
        "\n",
        "print(clf.best_score_)"
      ]
    },
    {
      "cell_type": "code",
      "execution_count": 19,
      "metadata": {
        "id": "FtoshUczRFmk"
      },
      "outputs": [],
      "source": [
        "pred=clf.predict(val_X)\n",
        "mae3=mean_absolute_error(val_y,pred)"
      ]
    },
    {
      "cell_type": "markdown",
      "metadata": {
        "id": "H5-YA4iYkViE"
      },
      "source": [
        "{'max_depth': 12, 'max_features': 6}\n",
        "0.6364333333333334"
      ]
    },
    {
      "cell_type": "code",
      "execution_count": 20,
      "metadata": {
        "colab": {
          "base_uri": "https://localhost:8080/"
        },
        "id": "wTjwdHsQ3MO5",
        "outputId": "86817f9f-ddb6-43c2-e64a-e92527e5f495"
      },
      "outputs": [
        {
          "output_type": "stream",
          "name": "stdout",
          "text": [
            "{'base_estimator__max_depth': 14, 'learning_rate': 0.01, 'n_estimators': 90}\n",
            "0.6192333333333333\n"
          ]
        }
      ],
      "source": [
        "import pandas as pd\n",
        "\n",
        "from sklearn.ensemble import RandomForestClassifier\n",
        "\n",
        "from sklearn.model_selection import train_test_split\n",
        "\n",
        "from sklearn.model_selection import GridSearchCV\n",
        "\n",
        "from sklearn import metrics\n",
        "from sklearn.tree import DecisionTreeClassifier\n",
        "from sklearn.ensemble import AdaBoostClassifier\n",
        "DTC = DecisionTreeClassifier(random_state = 11, max_features = \"auto\", class_weight = \"balanced\",max_depth = None)\n",
        "\n",
        "\n",
        "my_ensemble = AdaBoostClassifier(base_estimator=DTC)\n",
        "\n",
        "\n",
        "\n",
        "forest_params = [{'base_estimator__max_depth': list(range(10, 15)), 'n_estimators': list(range(50,100,10)), 'learning_rate':[.003,.01,.1,.5,.9]}]\n",
        "\n",
        "clf2 = GridSearchCV(my_ensemble, forest_params, cv = 5, scoring='accuracy',n_jobs=2)\n",
        "\n",
        "clf2.fit(train_X, train_y)\n",
        "\n",
        "print(clf2.best_params_)\n",
        "\n",
        "print(clf2.best_score_)"
      ]
    },
    {
      "cell_type": "code",
      "execution_count": null,
      "metadata": {
        "id": "NTeGY9z3RVID"
      },
      "outputs": [],
      "source": [
        "pred=clf2.predict(val_X)\n",
        "mae4=mean_absolute_error(val_y,pred)"
      ]
    },
    {
      "cell_type": "markdown",
      "metadata": {
        "id": "TqRPtObcze60"
      },
      "source": [
        "**{'base_estimator__max_depth': 14, 'learning_rate': 0.7, 'n_estimators': 80}\n",
        "0.5777333333333333**"
      ]
    },
    {
      "cell_type": "code",
      "execution_count": null,
      "metadata": {
        "id": "dDZzWaQVZba1"
      },
      "outputs": [],
      "source": [
        "print(clf.best_estimator_)\n",
        "print(clf.best_params_)\n"
      ]
    },
    {
      "cell_type": "code",
      "execution_count": 23,
      "metadata": {
        "colab": {
          "base_uri": "https://localhost:8080/"
        },
        "id": "tSUAEszLxYMW",
        "outputId": "3275fa42-f0df-45a6-e85c-a240e55eb3ff"
      },
      "outputs": [
        {
          "output_type": "stream",
          "name": "stdout",
          "text": [
            "[0.07769129 0.07818637 0.08484609 0.07991017 0.08814832 0.08415243\n",
            " 0.08652026 0.07583036 0.0097844  0.08791536 0.08455205 0.08301491\n",
            " 0.00581775 0.00460126 0.00513868 0.00336765 0.0038524  0.0042352\n",
            " 0.00550423 0.00574487 0.00542588 0.00572526 0.00650104 0.00514014\n",
            " 0.00079804 0.00200645 0.00762081 0.0066518  0.00131653]\n"
          ]
        }
      ],
      "source": [
        "print(clf.best_estimator_.feature_importances_)"
      ]
    },
    {
      "cell_type": "code",
      "execution_count": 24,
      "metadata": {
        "colab": {
          "base_uri": "https://localhost:8080/"
        },
        "id": "grgLwXJrzFLg",
        "outputId": "e01d540b-24dd-48f4-8c4f-0183931cd005"
      },
      "outputs": [
        {
          "output_type": "stream",
          "name": "stdout",
          "text": [
            "[0.07961646 0.07827535 0.08608493 0.07921401 0.08053864 0.09270028\n",
            " 0.07874901 0.08088427 0.00944109 0.08135315 0.0928049  0.08066423\n",
            " 0.00592626 0.00427727 0.00561501 0.00348076 0.00430625 0.00455704\n",
            " 0.00546333 0.00500752 0.00457177 0.00874399 0.00448517 0.00561269\n",
            " 0.00054416 0.00143266 0.00738927 0.00746356 0.00079698]\n"
          ]
        }
      ],
      "source": [
        "print(clf2.best_estimator_.feature_importances_)"
      ]
    },
    {
      "cell_type": "code",
      "execution_count": 25,
      "metadata": {
        "id": "G7l8xNFE0Ntx"
      },
      "outputs": [],
      "source": [
        "l=[]\n",
        "for x in train_X.columns:\n",
        "  l.append(str(x))\n"
      ]
    },
    {
      "cell_type": "code",
      "execution_count": 26,
      "metadata": {
        "colab": {
          "base_uri": "https://localhost:8080/",
          "height": 160
        },
        "id": "KlA78qIUz4Cx",
        "outputId": "b53e68d3-40d7-4926-8ce5-3c8775605eb1"
      },
      "outputs": [
        {
          "output_type": "execute_result",
          "data": {
            "text/plain": [
              "<BarContainer object of 29 artists>"
            ]
          },
          "metadata": {},
          "execution_count": 26
        },
        {
          "output_type": "display_data",
          "data": {
            "text/plain": [
              "<Figure size 2520x360 with 1 Axes>"
            ],
            "image/png": "[encoded data removed]"
          },
          "metadata": {}
        }
      ],
      "source": [
        "fig = plt.figure(figsize = (35, 5))\n",
        "plt.bar(l,clf.best_estimator_.feature_importances_)"
      ]
    },
    {
      "cell_type": "code",
      "execution_count": 27,
      "metadata": {
        "colab": {
          "base_uri": "https://localhost:8080/",
          "height": 160
        },
        "id": "P6O-p1zO000p",
        "outputId": "2d452013-d968-40f7-89fe-954b0074fff6"
      },
      "outputs": [
        {
          "output_type": "execute_result",
          "data": {
            "text/plain": [
              "<BarContainer object of 29 artists>"
            ]
          },
          "metadata": {},
          "execution_count": 27
        },
        {
          "output_type": "display_data",
          "data": {
            "text/plain": [
              "<Figure size 2520x360 with 1 Axes>"
            ],
            "image/png": "[encoded data removed]"
          },
          "metadata": {}
        }
      ],
      "source": [
        "fig = plt.figure(figsize = (35, 5))\n",
        "plt.bar(l,clf2.best_estimator_.feature_importances_)"
      ]
    },
    {
      "cell_type": "code",
      "execution_count": 28,
      "metadata": {
        "id": "huHA1t9uRaYV"
      },
      "outputs": [],
      "source": [
        "error=[mae1,mae2,mae3,mae1]\n",
        "model_name=['Ada boost classifier '+str(mae1),'baseline Random forest classifier '+str(mae2),'Random forest classifier '+str(mae3),'DecisionTreeClassifier '+str(mae4)]"
      ]
    },
    {
      "cell_type": "code",
      "execution_count": 29,
      "metadata": {
        "colab": {
          "base_uri": "https://localhost:8080/",
          "height": 320
        },
        "id": "ujaSF9vnRzos",
        "outputId": "ba3a0474-0686-408b-efe0-793b56633204"
      },
      "outputs": [
        {
          "output_type": "execute_result",
          "data": {
            "text/plain": [
              "<BarContainer object of 4 artists>"
            ]
          },
          "metadata": {},
          "execution_count": 29
        },
        {
          "output_type": "display_data",
          "data": {
            "text/plain": [
              "<Figure size 1080x360 with 1 Axes>"
            ],
            "image/png": "[encoded data removed]"
          },
          "metadata": {}
        }
      ],
      "source": [
        "fig = plt.figure(figsize = (15, 5))\n",
        "plt.bar(model_name,error,width=0.4)"
      ]
    },
    {
      "cell_type": "code",
      "execution_count": 30,
      "metadata": {
        "id": "RMhkKB4WOdiO"
      },
      "outputs": [],
      "source": [
        "test_data=pd.read_csv(\"/content/test.csv\")\n",
        "imputer = SimpleImputer(missing_values=np.nan, strategy='mean')\n",
        "imputer = imputer.fit(test_data)\n",
        "test_data = imputer.transform(test_data)\n",
        "test_data=trans(test_data)"
      ]
    },
    {
      "cell_type": "code",
      "execution_count": 31,
      "metadata": {
        "id": "QgvkcDXk2Cbp"
      },
      "outputs": [],
      "source": [
        "prediction=clf2.predict(test_data)"
      ]
    }
  ],
  "metadata": {
    "colab": {
      "collapsed_sections": [],
      "provenance": []
    },
    "kernelspec": {
      "display_name": "Python 3",
      "name": "python3"
    },
    "language_info": {
      "name": "python"
    }
  },
  "nbformat": 4,
  "nbformat_minor": 0
}